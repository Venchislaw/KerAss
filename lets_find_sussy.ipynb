{
 "cells": [
  {
   "cell_type": "markdown",
   "metadata": {},
   "source": [
    "Temporary Jupyter Notebook to catch some bugs & to narrow down the circle of imposter components.\n",
    "\n",
    "What's may be wrong in my opinon:\n",
    "- Backprop of Softmax (and maybe other activations)\n",
    "- Loss backprop\n",
    "- Some f*cked up unscaled calculation with exploding (or vanishing) numbers"
   ]
  },
  {
   "cell_type": "code",
   "execution_count": 7,
   "metadata": {},
   "outputs": [],
   "source": [
    "import numpy as np\n",
    "from sklearn.datasets import load_diabetes\n",
    "import pandas as pd\n",
    "\n",
    "from layers import Dense\n",
    "from models import Sequential"
   ]
  },
  {
   "cell_type": "markdown",
   "metadata": {},
   "source": [
    "# Assumption 1:\n",
    "## Softmax is kinda Sussy.\n",
    "Let's see if it is"
   ]
  },
  {
   "cell_type": "code",
   "execution_count": 8,
   "metadata": {},
   "outputs": [],
   "source": [
    "data = load_diabetes()"
   ]
  },
  {
   "cell_type": "code",
   "execution_count": 5,
   "metadata": {},
   "outputs": [
    {
     "data": {
      "text/plain": [
       "['age', 'sex', 'bmi', 'bp', 's1', 's2', 's3', 's4', 's5', 's6']"
      ]
     },
     "execution_count": 5,
     "metadata": {},
     "output_type": "execute_result"
    }
   ],
   "source": [
    "data[\"feature_names\"]"
   ]
  },
  {
   "cell_type": "code",
   "execution_count": 10,
   "metadata": {},
   "outputs": [
    {
     "data": {
      "text/html": [
       "<div>\n",
       "<style scoped>\n",
       "    .dataframe tbody tr th:only-of-type {\n",
       "        vertical-align: middle;\n",
       "    }\n",
       "\n",
       "    .dataframe tbody tr th {\n",
       "        vertical-align: top;\n",
       "    }\n",
       "\n",
       "    .dataframe thead th {\n",
       "        text-align: right;\n",
       "    }\n",
       "</style>\n",
       "<table border=\"1\" class=\"dataframe\">\n",
       "  <thead>\n",
       "    <tr style=\"text-align: right;\">\n",
       "      <th></th>\n",
       "      <th>age</th>\n",
       "      <th>sex</th>\n",
       "      <th>bmi</th>\n",
       "      <th>bp</th>\n",
       "      <th>s1</th>\n",
       "      <th>s2</th>\n",
       "      <th>s3</th>\n",
       "      <th>s4</th>\n",
       "      <th>s5</th>\n",
       "      <th>s6</th>\n",
       "    </tr>\n",
       "  </thead>\n",
       "  <tbody>\n",
       "    <tr>\n",
       "      <th>0</th>\n",
       "      <td>0.038076</td>\n",
       "      <td>0.050680</td>\n",
       "      <td>0.061696</td>\n",
       "      <td>0.021872</td>\n",
       "      <td>-0.044223</td>\n",
       "      <td>-0.034821</td>\n",
       "      <td>-0.043401</td>\n",
       "      <td>-0.002592</td>\n",
       "      <td>0.019907</td>\n",
       "      <td>-0.017646</td>\n",
       "    </tr>\n",
       "    <tr>\n",
       "      <th>1</th>\n",
       "      <td>-0.001882</td>\n",
       "      <td>-0.044642</td>\n",
       "      <td>-0.051474</td>\n",
       "      <td>-0.026328</td>\n",
       "      <td>-0.008449</td>\n",
       "      <td>-0.019163</td>\n",
       "      <td>0.074412</td>\n",
       "      <td>-0.039493</td>\n",
       "      <td>-0.068332</td>\n",
       "      <td>-0.092204</td>\n",
       "    </tr>\n",
       "    <tr>\n",
       "      <th>2</th>\n",
       "      <td>0.085299</td>\n",
       "      <td>0.050680</td>\n",
       "      <td>0.044451</td>\n",
       "      <td>-0.005670</td>\n",
       "      <td>-0.045599</td>\n",
       "      <td>-0.034194</td>\n",
       "      <td>-0.032356</td>\n",
       "      <td>-0.002592</td>\n",
       "      <td>0.002861</td>\n",
       "      <td>-0.025930</td>\n",
       "    </tr>\n",
       "    <tr>\n",
       "      <th>3</th>\n",
       "      <td>-0.089063</td>\n",
       "      <td>-0.044642</td>\n",
       "      <td>-0.011595</td>\n",
       "      <td>-0.036656</td>\n",
       "      <td>0.012191</td>\n",
       "      <td>0.024991</td>\n",
       "      <td>-0.036038</td>\n",
       "      <td>0.034309</td>\n",
       "      <td>0.022688</td>\n",
       "      <td>-0.009362</td>\n",
       "    </tr>\n",
       "    <tr>\n",
       "      <th>4</th>\n",
       "      <td>0.005383</td>\n",
       "      <td>-0.044642</td>\n",
       "      <td>-0.036385</td>\n",
       "      <td>0.021872</td>\n",
       "      <td>0.003935</td>\n",
       "      <td>0.015596</td>\n",
       "      <td>0.008142</td>\n",
       "      <td>-0.002592</td>\n",
       "      <td>-0.031988</td>\n",
       "      <td>-0.046641</td>\n",
       "    </tr>\n",
       "  </tbody>\n",
       "</table>\n",
       "</div>"
      ],
      "text/plain": [
       "        age       sex       bmi        bp        s1        s2        s3  \\\n",
       "0  0.038076  0.050680  0.061696  0.021872 -0.044223 -0.034821 -0.043401   \n",
       "1 -0.001882 -0.044642 -0.051474 -0.026328 -0.008449 -0.019163  0.074412   \n",
       "2  0.085299  0.050680  0.044451 -0.005670 -0.045599 -0.034194 -0.032356   \n",
       "3 -0.089063 -0.044642 -0.011595 -0.036656  0.012191  0.024991 -0.036038   \n",
       "4  0.005383 -0.044642 -0.036385  0.021872  0.003935  0.015596  0.008142   \n",
       "\n",
       "         s4        s5        s6  \n",
       "0 -0.002592  0.019907 -0.017646  \n",
       "1 -0.039493 -0.068332 -0.092204  \n",
       "2 -0.002592  0.002861 -0.025930  \n",
       "3  0.034309  0.022688 -0.009362  \n",
       "4 -0.002592 -0.031988 -0.046641  "
      ]
     },
     "execution_count": 10,
     "metadata": {},
     "output_type": "execute_result"
    }
   ],
   "source": [
    "X = pd.DataFrame(data['data'], columns=data[\"feature_names\"])\n",
    "X.head()"
   ]
  },
  {
   "cell_type": "code",
   "execution_count": 17,
   "metadata": {},
   "outputs": [],
   "source": [
    "y = data[\"target\"].reshape(-1, 1).T"
   ]
  },
  {
   "cell_type": "code",
   "execution_count": 18,
   "metadata": {},
   "outputs": [
    {
     "data": {
      "text/plain": [
       "((442, 10), (1, 442))"
      ]
     },
     "execution_count": 18,
     "metadata": {},
     "output_type": "execute_result"
    }
   ],
   "source": [
    "X = np.array(X)\n",
    "(X.shape, y.shape)"
   ]
  },
  {
   "cell_type": "code",
   "execution_count": 19,
   "metadata": {},
   "outputs": [],
   "source": [
    "model = Sequential([\n",
    "    Dense(30),\n",
    "    Dense(10),\n",
    "    Dense(1),\n",
    "])"
   ]
  },
  {
   "cell_type": "code",
   "execution_count": 20,
   "metadata": {},
   "outputs": [],
   "source": [
    "model.compile(loss=\"mse\")"
   ]
  },
  {
   "cell_type": "code",
   "execution_count": 22,
   "metadata": {},
   "outputs": [
    {
     "name": "stdout",
     "output_type": "stream",
     "text": [
      "Epoch: 0 | Loss: 29065.236473511693\n",
      "Epoch: 10 | Loss: 21538465120189.312\n",
      "Epoch: 20 | Loss: 1.2089142305567896e+98\n",
      "Epoch: 30 | Loss: 3.316437006719894e+222\n",
      "Epoch: 40 | Loss: inf\n",
      "Epoch: 50 | Loss: inf\n",
      "Epoch: 60 | Loss: inf\n",
      "Epoch: 70 | Loss: inf\n",
      "Epoch: 80 | Loss: inf\n",
      "Epoch: 90 | Loss: inf\n",
      "Epoch: 100 | Loss: inf\n",
      "Epoch: 110 | Loss: inf\n",
      "Epoch: 120 | Loss: inf\n",
      "Epoch: 130 | Loss: inf\n",
      "Epoch: 140 | Loss: inf\n",
      "Epoch: 150 | Loss: inf\n",
      "Epoch: 160 | Loss: inf\n",
      "Epoch: 170 | Loss: inf\n",
      "Epoch: 180 | Loss: inf\n",
      "Epoch: 190 | Loss: inf\n",
      "Epoch: 200 | Loss: inf\n",
      "Epoch: 210 | Loss: inf\n",
      "Epoch: 220 | Loss: inf\n",
      "Epoch: 230 | Loss: inf\n",
      "Epoch: 240 | Loss: inf\n",
      "Epoch: 250 | Loss: inf\n",
      "Epoch: 260 | Loss: inf\n",
      "Epoch: 270 | Loss: inf\n",
      "Epoch: 280 | Loss: inf\n",
      "Epoch: 290 | Loss: inf\n",
      "Epoch: 300 | Loss: inf\n",
      "Epoch: 310 | Loss: inf\n",
      "Epoch: 320 | Loss: inf\n",
      "Epoch: 330 | Loss: inf\n",
      "Epoch: 340 | Loss: inf\n",
      "Epoch: 350 | Loss: inf\n",
      "Epoch: 360 | Loss: inf\n",
      "Epoch: 370 | Loss: inf\n",
      "Epoch: 380 | Loss: inf\n",
      "Epoch: 390 | Loss: inf\n",
      "Epoch: 400 | Loss: inf\n",
      "Epoch: 410 | Loss: inf\n",
      "Epoch: 420 | Loss: inf\n",
      "Epoch: 430 | Loss: inf\n",
      "Epoch: 440 | Loss: inf\n",
      "Epoch: 450 | Loss: inf\n",
      "Epoch: 460 | Loss: inf\n",
      "Epoch: 470 | Loss: inf\n",
      "Epoch: 480 | Loss: inf\n",
      "Epoch: 490 | Loss: inf\n",
      "Epoch: 500 | Loss: inf\n",
      "Epoch: 510 | Loss: inf\n",
      "Epoch: 520 | Loss: inf\n",
      "Epoch: 530 | Loss: inf\n",
      "Epoch: 540 | Loss: inf\n",
      "Epoch: 550 | Loss: inf\n",
      "Epoch: 560 | Loss: inf\n",
      "Epoch: 570 | Loss: inf\n",
      "Epoch: 580 | Loss: inf\n",
      "Epoch: 590 | Loss: inf\n",
      "Epoch: 600 | Loss: inf\n",
      "Epoch: 610 | Loss: inf\n",
      "Epoch: 620 | Loss: inf\n",
      "Epoch: 630 | Loss: inf\n",
      "Epoch: 640 | Loss: inf\n",
      "Epoch: 650 | Loss: inf\n",
      "Epoch: 660 | Loss: inf\n",
      "Epoch: 670 | Loss: inf\n",
      "Epoch: 680 | Loss: inf\n",
      "Epoch: 690 | Loss: inf\n",
      "Epoch: 700 | Loss: inf\n",
      "Epoch: 710 | Loss: inf\n",
      "Epoch: 720 | Loss: inf\n",
      "Epoch: 730 | Loss: inf\n",
      "Epoch: 740 | Loss: inf\n",
      "Epoch: 750 | Loss: inf\n",
      "Epoch: 760 | Loss: inf\n",
      "Epoch: 770 | Loss: inf\n",
      "Epoch: 780 | Loss: inf\n",
      "Epoch: 790 | Loss: inf\n",
      "Epoch: 800 | Loss: inf\n",
      "Epoch: 810 | Loss: inf\n",
      "Epoch: 820 | Loss: inf\n",
      "Epoch: 830 | Loss: inf\n",
      "Epoch: 840 | Loss: inf\n",
      "Epoch: 850 | Loss: inf\n",
      "Epoch: 860 | Loss: inf\n",
      "Epoch: 870 | Loss: inf\n",
      "Epoch: 880 | Loss: inf\n",
      "Epoch: 890 | Loss: inf\n",
      "Epoch: 900 | Loss: inf\n",
      "Epoch: 910 | Loss: inf\n",
      "Epoch: 920 | Loss: inf\n",
      "Epoch: 930 | Loss: inf\n",
      "Epoch: 940 | Loss: inf\n",
      "Epoch: 950 | Loss: inf\n",
      "Epoch: 960 | Loss: inf\n",
      "Epoch: 970 | Loss: inf\n",
      "Epoch: 980 | Loss: inf\n",
      "Epoch: 990 | Loss: inf\n"
     ]
    },
    {
     "name": "stderr",
     "output_type": "stream",
     "text": [
      "/media/venchislav/Дискич/Programmin/Projects/Ker_Ass/losses.py:31: RuntimeWarning: overflow encountered in square\n",
      "  self.loss_value = 1 / self.m * np.sum((y_true - a) ** 2)\n",
      "/home/venchislav/.local/lib/python3.12/site-packages/numpy/core/fromnumeric.py:88: RuntimeWarning: overflow encountered in reduce\n",
      "  return ufunc.reduce(obj, axis, dtype, out, **passkwargs)\n"
     ]
    },
    {
     "data": {
      "text/plain": [
       "array([[-inf, -inf, -inf, -inf, -inf, -inf, -inf, -inf, -inf, -inf, -inf,\n",
       "        -inf, -inf, -inf, -inf, -inf, -inf, -inf, -inf, -inf, -inf, -inf,\n",
       "        -inf, -inf, -inf, -inf, -inf, -inf, -inf, -inf, -inf, -inf, -inf,\n",
       "        -inf, -inf, -inf, -inf, -inf, -inf, -inf, -inf, -inf, -inf, -inf,\n",
       "        -inf, -inf, -inf, -inf, -inf, -inf, -inf, -inf, -inf, -inf, -inf,\n",
       "        -inf, -inf, -inf, -inf, -inf, -inf, -inf, -inf, -inf, -inf, -inf,\n",
       "        -inf, -inf, -inf, -inf, -inf, -inf, -inf, -inf, -inf, -inf, -inf,\n",
       "        -inf, -inf, -inf, -inf, -inf, -inf, -inf, -inf, -inf, -inf, -inf,\n",
       "        -inf, -inf, -inf, -inf, -inf, -inf, -inf, -inf, -inf, -inf, -inf,\n",
       "        -inf, -inf, -inf, -inf, -inf, -inf, -inf, -inf, -inf, -inf, -inf,\n",
       "        -inf, -inf, -inf, -inf, -inf, -inf, -inf, -inf, -inf, -inf, -inf,\n",
       "        -inf, -inf, -inf, -inf, -inf, -inf, -inf, -inf, -inf, -inf, -inf,\n",
       "        -inf, -inf, -inf, -inf, -inf, -inf, -inf, -inf, -inf, -inf, -inf,\n",
       "        -inf, -inf, -inf, -inf, -inf, -inf, -inf, -inf, -inf, -inf, -inf,\n",
       "        -inf, -inf, -inf, -inf, -inf, -inf, -inf, -inf, -inf, -inf, -inf,\n",
       "        -inf, -inf, -inf, -inf, -inf, -inf, -inf, -inf, -inf, -inf, -inf,\n",
       "        -inf, -inf, -inf, -inf, -inf, -inf, -inf, -inf, -inf, -inf, -inf,\n",
       "        -inf, -inf, -inf, -inf, -inf, -inf, -inf, -inf, -inf, -inf, -inf,\n",
       "        -inf, -inf, -inf, -inf, -inf, -inf, -inf, -inf, -inf, -inf, -inf,\n",
       "        -inf, -inf, -inf, -inf, -inf, -inf, -inf, -inf, -inf, -inf, -inf,\n",
       "        -inf, -inf, -inf, -inf, -inf, -inf, -inf, -inf, -inf, -inf, -inf,\n",
       "        -inf, -inf, -inf, -inf, -inf, -inf, -inf, -inf, -inf, -inf, -inf,\n",
       "        -inf, -inf, -inf, -inf, -inf, -inf, -inf, -inf, -inf, -inf, -inf,\n",
       "        -inf, -inf, -inf, -inf, -inf, -inf, -inf, -inf, -inf, -inf, -inf,\n",
       "        -inf, -inf, -inf, -inf, -inf, -inf, -inf, -inf, -inf, -inf, -inf,\n",
       "        -inf, -inf, -inf, -inf, -inf, -inf, -inf, -inf, -inf, -inf, -inf,\n",
       "        -inf, -inf, -inf, -inf, -inf, -inf, -inf, -inf, -inf, -inf, -inf,\n",
       "        -inf, -inf, -inf, -inf, -inf, -inf, -inf, -inf, -inf, -inf, -inf,\n",
       "        -inf, -inf, -inf, -inf, -inf, -inf, -inf, -inf, -inf, -inf, -inf,\n",
       "        -inf, -inf, -inf, -inf, -inf, -inf, -inf, -inf, -inf, -inf, -inf,\n",
       "        -inf, -inf, -inf, -inf, -inf, -inf, -inf, -inf, -inf, -inf, -inf,\n",
       "        -inf, -inf, -inf, -inf, -inf, -inf, -inf, -inf, -inf, -inf, -inf,\n",
       "        -inf, -inf, -inf, -inf, -inf, -inf, -inf, -inf, -inf, -inf, -inf,\n",
       "        -inf, -inf, -inf, -inf, -inf, -inf, -inf, -inf, -inf, -inf, -inf,\n",
       "        -inf, -inf, -inf, -inf, -inf, -inf, -inf, -inf, -inf, -inf, -inf,\n",
       "        -inf, -inf, -inf, -inf, -inf, -inf, -inf, -inf, -inf, -inf, -inf,\n",
       "        -inf, -inf, -inf, -inf, -inf, -inf, -inf, -inf, -inf, -inf, -inf,\n",
       "        -inf, -inf, -inf, -inf, -inf, -inf, -inf, -inf, -inf, -inf, -inf,\n",
       "        -inf, -inf, -inf, -inf, -inf, -inf, -inf, -inf, -inf, -inf, -inf,\n",
       "        -inf, -inf, -inf, -inf, -inf, -inf, -inf, -inf, -inf, -inf, -inf,\n",
       "        -inf, -inf]])"
      ]
     },
     "execution_count": 22,
     "metadata": {},
     "output_type": "execute_result"
    }
   ],
   "source": [
    "model.fit(X, y, epochs=1_000, verbosity_step=10)"
   ]
  },
  {
   "cell_type": "markdown",
   "metadata": {},
   "source": [
    "Holy fuck..."
   ]
  },
  {
   "cell_type": "code",
   "execution_count": null,
   "metadata": {},
   "outputs": [],
   "source": []
  }
 ],
 "metadata": {
  "kernelspec": {
   "display_name": "Python 3",
   "language": "python",
   "name": "python3"
  },
  "language_info": {
   "codemirror_mode": {
    "name": "ipython",
    "version": 3
   },
   "file_extension": ".py",
   "mimetype": "text/x-python",
   "name": "python",
   "nbconvert_exporter": "python",
   "pygments_lexer": "ipython3",
   "version": "3.12.3"
  }
 },
 "nbformat": 4,
 "nbformat_minor": 2
}
